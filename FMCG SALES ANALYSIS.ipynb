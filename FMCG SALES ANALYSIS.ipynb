{
 "cells": [
  {
   "cell_type": "markdown",
   "id": "25c7983a",
   "metadata": {},
   "source": [
    "# FMCG SALES ANALYSIS"
   ]
  },
  {
   "cell_type": "code",
   "execution_count": 1,
   "id": "8217a5d7",
   "metadata": {},
   "outputs": [],
   "source": [
    "import pandas as pd\n",
    "import matplotlib.pyplot as plt"
   ]
  },
  {
   "cell_type": "markdown",
   "id": "81ec81b9",
   "metadata": {},
   "source": [
    "#### Reading the csv file "
   ]
  },
  {
   "cell_type": "code",
   "execution_count": 2,
   "id": "9822f424",
   "metadata": {},
   "outputs": [
    {
     "data": {
      "text/html": [
       "<div>\n",
       "<style scoped>\n",
       "    .dataframe tbody tr th:only-of-type {\n",
       "        vertical-align: middle;\n",
       "    }\n",
       "\n",
       "    .dataframe tbody tr th {\n",
       "        vertical-align: top;\n",
       "    }\n",
       "\n",
       "    .dataframe thead th {\n",
       "        text-align: right;\n",
       "    }\n",
       "</style>\n",
       "<table border=\"1\" class=\"dataframe\">\n",
       "  <thead>\n",
       "    <tr style=\"text-align: right;\">\n",
       "      <th></th>\n",
       "      <th>Month</th>\n",
       "      <th>Channel</th>\n",
       "      <th>Sub-Channels</th>\n",
       "      <th>Product Name</th>\n",
       "      <th>Category</th>\n",
       "      <th>Qty</th>\n",
       "      <th>Sales</th>\n",
       "    </tr>\n",
       "  </thead>\n",
       "  <tbody>\n",
       "    <tr>\n",
       "      <th>0</th>\n",
       "      <td>01-Dec-20</td>\n",
       "      <td>Marketplace</td>\n",
       "      <td>AMAZON</td>\n",
       "      <td>ALOE + AMLA JUICE 1 L</td>\n",
       "      <td>Juices</td>\n",
       "      <td>1,116</td>\n",
       "      <td>4,28,700</td>\n",
       "    </tr>\n",
       "    <tr>\n",
       "      <th>1</th>\n",
       "      <td>01-Dec-20</td>\n",
       "      <td>Marketplace</td>\n",
       "      <td>AMAZON</td>\n",
       "      <td>ALOE + GARCINIA JUICE 1 L</td>\n",
       "      <td>Juices</td>\n",
       "      <td>3,003</td>\n",
       "      <td>13,74,831</td>\n",
       "    </tr>\n",
       "    <tr>\n",
       "      <th>2</th>\n",
       "      <td>01-Dec-20</td>\n",
       "      <td>Marketplace</td>\n",
       "      <td>AMAZON</td>\n",
       "      <td>ALOE VERA JUICE 1 L</td>\n",
       "      <td>Juices</td>\n",
       "      <td>2,962</td>\n",
       "      <td>7,32,167</td>\n",
       "    </tr>\n",
       "    <tr>\n",
       "      <th>3</th>\n",
       "      <td>01-Dec-20</td>\n",
       "      <td>Marketplace</td>\n",
       "      <td>AMAZON</td>\n",
       "      <td>ALOE VERA SKIN GEL 500 GM</td>\n",
       "      <td>Gourmet Nutrition</td>\n",
       "      <td>1,004</td>\n",
       "      <td>3,77,100</td>\n",
       "    </tr>\n",
       "    <tr>\n",
       "      <th>4</th>\n",
       "      <td>01-Dec-20</td>\n",
       "      <td>Marketplace</td>\n",
       "      <td>AMAZON</td>\n",
       "      <td>NEEM JUICE 1 L</td>\n",
       "      <td>Juices</td>\n",
       "      <td>555</td>\n",
       "      <td>1,52,287</td>\n",
       "    </tr>\n",
       "  </tbody>\n",
       "</table>\n",
       "</div>"
      ],
      "text/plain": [
       "       Month      Channel Sub-Channels               Product Name  \\\n",
       "0  01-Dec-20  Marketplace       AMAZON      ALOE + AMLA JUICE 1 L   \n",
       "1  01-Dec-20  Marketplace       AMAZON  ALOE + GARCINIA JUICE 1 L   \n",
       "2  01-Dec-20  Marketplace       AMAZON        ALOE VERA JUICE 1 L   \n",
       "3  01-Dec-20  Marketplace       AMAZON  ALOE VERA SKIN GEL 500 GM   \n",
       "4  01-Dec-20  Marketplace       AMAZON             NEEM JUICE 1 L   \n",
       "\n",
       "            Category      Qty        Sales  \n",
       "0             Juices   1,116     4,28,700   \n",
       "1             Juices   3,003    13,74,831   \n",
       "2             Juices   2,962     7,32,167   \n",
       "3  Gourmet Nutrition   1,004     3,77,100   \n",
       "4             Juices     555     1,52,287   "
      ]
     },
     "execution_count": 2,
     "metadata": {},
     "output_type": "execute_result"
    }
   ],
   "source": [
    "data = pd.read_csv('Raw Sales Data.csv')\n",
    "data.head()"
   ]
  },
  {
   "cell_type": "code",
   "execution_count": 3,
   "id": "d910fa7e",
   "metadata": {},
   "outputs": [
    {
     "name": "stdout",
     "output_type": "stream",
     "text": [
      "<class 'pandas.core.frame.DataFrame'>\n",
      "RangeIndex: 224 entries, 0 to 223\n",
      "Data columns (total 7 columns):\n",
      " #   Column        Non-Null Count  Dtype \n",
      "---  ------        --------------  ----- \n",
      " 0   Month         224 non-null    object\n",
      " 1   Channel       224 non-null    object\n",
      " 2   Sub-Channels  224 non-null    object\n",
      " 3   Product Name  224 non-null    object\n",
      " 4   Category      224 non-null    object\n",
      " 5   Qty           224 non-null    object\n",
      " 6   Sales         224 non-null    object\n",
      "dtypes: object(7)\n",
      "memory usage: 12.4+ KB\n"
     ]
    }
   ],
   "source": [
    "data.info()"
   ]
  },
  {
   "cell_type": "markdown",
   "id": "281ddbd0",
   "metadata": {},
   "source": [
    "#### Removing commas from the quantity and sales column and converting them to suitable datatype"
   ]
  },
  {
   "cell_type": "code",
   "execution_count": 4,
   "id": "917c11eb",
   "metadata": {},
   "outputs": [],
   "source": [
    "data[\"Qty\"] = data[\"Qty\"].str.replace(',','').astype('int')\n",
    "data[\"Sales\"] = data[\"Sales\"].str.replace(',','').astype('float')"
   ]
  },
  {
   "cell_type": "markdown",
   "id": "0d931833",
   "metadata": {},
   "source": [
    "#### Converting the month column to datetime datatype"
   ]
  },
  {
   "cell_type": "code",
   "execution_count": 5,
   "id": "8ef03872",
   "metadata": {},
   "outputs": [
    {
     "name": "stdout",
     "output_type": "stream",
     "text": [
      "<class 'pandas.core.frame.DataFrame'>\n",
      "RangeIndex: 224 entries, 0 to 223\n",
      "Data columns (total 7 columns):\n",
      " #   Column        Non-Null Count  Dtype         \n",
      "---  ------        --------------  -----         \n",
      " 0   Month         224 non-null    datetime64[ns]\n",
      " 1   Channel       224 non-null    object        \n",
      " 2   Sub-Channels  224 non-null    object        \n",
      " 3   Product Name  224 non-null    object        \n",
      " 4   Category      224 non-null    object        \n",
      " 5   Qty           224 non-null    int32         \n",
      " 6   Sales         224 non-null    float64       \n",
      "dtypes: datetime64[ns](1), float64(1), int32(1), object(4)\n",
      "memory usage: 11.5+ KB\n"
     ]
    }
   ],
   "source": [
    "data['Month'] = pd.to_datetime(data['Month'])\n",
    "data.info()"
   ]
  },
  {
   "cell_type": "markdown",
   "id": "fc48b58d",
   "metadata": {},
   "source": [
    "#### Creating a new column called \"Sales Month\" by extracting month name from \"Month\" column\n"
   ]
  },
  {
   "cell_type": "code",
   "execution_count": 6,
   "id": "1a889b6a",
   "metadata": {},
   "outputs": [],
   "source": [
    "data['Sales Month'] = data['Month'].dt.month_name(locale ='English')\n"
   ]
  },
  {
   "cell_type": "code",
   "execution_count": 7,
   "id": "0789d717",
   "metadata": {},
   "outputs": [
    {
     "data": {
      "text/html": [
       "<div>\n",
       "<style scoped>\n",
       "    .dataframe tbody tr th:only-of-type {\n",
       "        vertical-align: middle;\n",
       "    }\n",
       "\n",
       "    .dataframe tbody tr th {\n",
       "        vertical-align: top;\n",
       "    }\n",
       "\n",
       "    .dataframe thead th {\n",
       "        text-align: right;\n",
       "    }\n",
       "</style>\n",
       "<table border=\"1\" class=\"dataframe\">\n",
       "  <thead>\n",
       "    <tr style=\"text-align: right;\">\n",
       "      <th></th>\n",
       "      <th>Month</th>\n",
       "      <th>Channel</th>\n",
       "      <th>Sub-Channels</th>\n",
       "      <th>Product Name</th>\n",
       "      <th>Category</th>\n",
       "      <th>Qty</th>\n",
       "      <th>Sales</th>\n",
       "      <th>Sales Month</th>\n",
       "    </tr>\n",
       "  </thead>\n",
       "  <tbody>\n",
       "    <tr>\n",
       "      <th>0</th>\n",
       "      <td>2020-12-01</td>\n",
       "      <td>Marketplace</td>\n",
       "      <td>AMAZON</td>\n",
       "      <td>ALOE + AMLA JUICE 1 L</td>\n",
       "      <td>Juices</td>\n",
       "      <td>1116</td>\n",
       "      <td>428700.0</td>\n",
       "      <td>December</td>\n",
       "    </tr>\n",
       "    <tr>\n",
       "      <th>1</th>\n",
       "      <td>2020-12-01</td>\n",
       "      <td>Marketplace</td>\n",
       "      <td>AMAZON</td>\n",
       "      <td>ALOE + GARCINIA JUICE 1 L</td>\n",
       "      <td>Juices</td>\n",
       "      <td>3003</td>\n",
       "      <td>1374831.0</td>\n",
       "      <td>December</td>\n",
       "    </tr>\n",
       "    <tr>\n",
       "      <th>2</th>\n",
       "      <td>2020-12-01</td>\n",
       "      <td>Marketplace</td>\n",
       "      <td>AMAZON</td>\n",
       "      <td>ALOE VERA JUICE 1 L</td>\n",
       "      <td>Juices</td>\n",
       "      <td>2962</td>\n",
       "      <td>732167.0</td>\n",
       "      <td>December</td>\n",
       "    </tr>\n",
       "    <tr>\n",
       "      <th>3</th>\n",
       "      <td>2020-12-01</td>\n",
       "      <td>Marketplace</td>\n",
       "      <td>AMAZON</td>\n",
       "      <td>ALOE VERA SKIN GEL 500 GM</td>\n",
       "      <td>Gourmet Nutrition</td>\n",
       "      <td>1004</td>\n",
       "      <td>377100.0</td>\n",
       "      <td>December</td>\n",
       "    </tr>\n",
       "    <tr>\n",
       "      <th>4</th>\n",
       "      <td>2020-12-01</td>\n",
       "      <td>Marketplace</td>\n",
       "      <td>AMAZON</td>\n",
       "      <td>NEEM JUICE 1 L</td>\n",
       "      <td>Juices</td>\n",
       "      <td>555</td>\n",
       "      <td>152287.0</td>\n",
       "      <td>December</td>\n",
       "    </tr>\n",
       "  </tbody>\n",
       "</table>\n",
       "</div>"
      ],
      "text/plain": [
       "       Month      Channel Sub-Channels               Product Name  \\\n",
       "0 2020-12-01  Marketplace       AMAZON      ALOE + AMLA JUICE 1 L   \n",
       "1 2020-12-01  Marketplace       AMAZON  ALOE + GARCINIA JUICE 1 L   \n",
       "2 2020-12-01  Marketplace       AMAZON        ALOE VERA JUICE 1 L   \n",
       "3 2020-12-01  Marketplace       AMAZON  ALOE VERA SKIN GEL 500 GM   \n",
       "4 2020-12-01  Marketplace       AMAZON             NEEM JUICE 1 L   \n",
       "\n",
       "            Category   Qty      Sales Sales Month  \n",
       "0             Juices  1116   428700.0    December  \n",
       "1             Juices  3003  1374831.0    December  \n",
       "2             Juices  2962   732167.0    December  \n",
       "3  Gourmet Nutrition  1004   377100.0    December  \n",
       "4             Juices   555   152287.0    December  "
      ]
     },
     "execution_count": 7,
     "metadata": {},
     "output_type": "execute_result"
    }
   ],
   "source": [
    "data.head()"
   ]
  },
  {
   "cell_type": "markdown",
   "id": "6f1009a8",
   "metadata": {},
   "source": [
    "# Requirements"
   ]
  },
  {
   "cell_type": "markdown",
   "id": "fb4e8645",
   "metadata": {},
   "source": [
    "### Requirement 1 : Monthwise number of quantities sold\n"
   ]
  },
  {
   "cell_type": "code",
   "execution_count": 8,
   "id": "0852dbcb",
   "metadata": {},
   "outputs": [
    {
     "data": {
      "text/html": [
       "<div>\n",
       "<style scoped>\n",
       "    .dataframe tbody tr th:only-of-type {\n",
       "        vertical-align: middle;\n",
       "    }\n",
       "\n",
       "    .dataframe tbody tr th {\n",
       "        vertical-align: top;\n",
       "    }\n",
       "\n",
       "    .dataframe thead th {\n",
       "        text-align: right;\n",
       "    }\n",
       "</style>\n",
       "<table border=\"1\" class=\"dataframe\">\n",
       "  <thead>\n",
       "    <tr style=\"text-align: right;\">\n",
       "      <th></th>\n",
       "      <th>Qty</th>\n",
       "    </tr>\n",
       "    <tr>\n",
       "      <th>Sales Month</th>\n",
       "      <th></th>\n",
       "    </tr>\n",
       "  </thead>\n",
       "  <tbody>\n",
       "    <tr>\n",
       "      <th>December</th>\n",
       "      <td>85427</td>\n",
       "    </tr>\n",
       "    <tr>\n",
       "      <th>March</th>\n",
       "      <td>80229</td>\n",
       "    </tr>\n",
       "    <tr>\n",
       "      <th>February</th>\n",
       "      <td>76393</td>\n",
       "    </tr>\n",
       "    <tr>\n",
       "      <th>January</th>\n",
       "      <td>67732</td>\n",
       "    </tr>\n",
       "  </tbody>\n",
       "</table>\n",
       "</div>"
      ],
      "text/plain": [
       "               Qty\n",
       "Sales Month       \n",
       "December     85427\n",
       "March        80229\n",
       "February     76393\n",
       "January      67732"
      ]
     },
     "execution_count": 8,
     "metadata": {},
     "output_type": "execute_result"
    }
   ],
   "source": [
    "month_wise_qty = pd.DataFrame(data.groupby('Sales Month')['Qty'].sum().sort_values(ascending = False))\n",
    "month_wise_qty"
   ]
  },
  {
   "cell_type": "markdown",
   "id": "36677f34",
   "metadata": {},
   "source": [
    "##### Showing the results in a bar graph"
   ]
  },
  {
   "cell_type": "code",
   "execution_count": 9,
   "id": "472b4d90",
   "metadata": {},
   "outputs": [
    {
     "data": {
      "text/plain": [
       "Text(0.5, 1.0, 'Quantity over months')"
      ]
     },
     "execution_count": 9,
     "metadata": {},
     "output_type": "execute_result"
    },
    {
     "data": {
      "image/png": "[encoded data removed]",
      "text/plain": [
       "<Figure size 432x288 with 1 Axes>"
      ]
     },
     "metadata": {
      "needs_background": "light"
     },
     "output_type": "display_data"
    }
   ],
   "source": [
    "chart = plt.bar(month_wise_qty.index, month_wise_qty[\"Qty\"])\n",
    "plt.xlabel(\"Months\")\n",
    "plt.ylabel(\"Quantity\")\n",
    "plt.title(\"Quantity over months\")"
   ]
  },
  {
   "cell_type": "markdown",
   "id": "d7fb8d0f",
   "metadata": {},
   "source": [
    "### Requirement 2 :  Category wise Qty sold\n"
   ]
  },
  {
   "cell_type": "code",
   "execution_count": 11,
   "id": "550325d9",
   "metadata": {},
   "outputs": [
    {
     "data": {
      "text/html": [
       "<div>\n",
       "<style scoped>\n",
       "    .dataframe tbody tr th:only-of-type {\n",
       "        vertical-align: middle;\n",
       "    }\n",
       "\n",
       "    .dataframe tbody tr th {\n",
       "        vertical-align: top;\n",
       "    }\n",
       "\n",
       "    .dataframe thead th {\n",
       "        text-align: right;\n",
       "    }\n",
       "</style>\n",
       "<table border=\"1\" class=\"dataframe\">\n",
       "  <thead>\n",
       "    <tr style=\"text-align: right;\">\n",
       "      <th></th>\n",
       "      <th>Qty</th>\n",
       "    </tr>\n",
       "    <tr>\n",
       "      <th>Category</th>\n",
       "      <th></th>\n",
       "    </tr>\n",
       "  </thead>\n",
       "  <tbody>\n",
       "    <tr>\n",
       "      <th>Functional nutrition</th>\n",
       "      <td>42354</td>\n",
       "    </tr>\n",
       "    <tr>\n",
       "      <th>Gourmet Nutrition</th>\n",
       "      <td>89279</td>\n",
       "    </tr>\n",
       "    <tr>\n",
       "      <th>Juices</th>\n",
       "      <td>178148</td>\n",
       "    </tr>\n",
       "  </tbody>\n",
       "</table>\n",
       "</div>"
      ],
      "text/plain": [
       "                         Qty\n",
       "Category                    \n",
       "Functional nutrition   42354\n",
       "Gourmet Nutrition      89279\n",
       "Juices                178148"
      ]
     },
     "execution_count": 11,
     "metadata": {},
     "output_type": "execute_result"
    }
   ],
   "source": [
    "cat_wise_qty = pd.DataFrame(data.groupby('Category')['Qty'].sum())\n",
    "cat_wise_qty"
   ]
  },
  {
   "cell_type": "markdown",
   "id": "7a3bd8a4",
   "metadata": {},
   "source": [
    "##### Showing the results in a bar graph"
   ]
  },
  {
   "cell_type": "code",
   "execution_count": 14,
   "id": "8db462ea",
   "metadata": {},
   "outputs": [
    {
     "data": {
      "text/plain": [
       "Text(0.5, 1.0, 'Category wise quantities sold')"
      ]
     },
     "execution_count": 14,
     "metadata": {},
     "output_type": "execute_result"
    },
    {
     "data": {
      "image/png": "[encoded data removed]",
      "text/plain": [
       "<Figure size 432x288 with 1 Axes>"
      ]
     },
     "metadata": {
      "needs_background": "light"
     },
     "output_type": "display_data"
    }
   ],
   "source": [
    "plt.bar(cat_wise_qty.index, cat_wise_qty[\"Qty\"])\n",
    "plt.xlabel(\"Product Category\")\n",
    "plt.ylabel(\"Quantity Sold\")\n",
    "plt.title(\"Category wise quantities sold\")"
   ]
  },
  {
   "cell_type": "markdown",
   "id": "b548cd12",
   "metadata": {},
   "source": [
    "### Requirement 3 : Sub-channel wise total sales\n"
   ]
  },
  {
   "cell_type": "code",
   "execution_count": 25,
   "id": "00d899b8",
   "metadata": {},
   "outputs": [
    {
     "name": "stdout",
     "output_type": "stream",
     "text": [
      "         Sub-Channels       Sales\n",
      "0   Offline - Central    375332.0\n",
      "1               GOQII    582600.0\n",
      "2      Offline - East    811146.0\n",
      "3      Offline -North   1206564.0\n",
      "4          Big Basket   1207522.0\n",
      "5     Offline - South   3446395.0\n",
      "6            Flipkart   3770415.0\n",
      "7        Offline - MT   6257948.0\n",
      "8      Offline - West   6441427.0\n",
      "9                 D2C  28047538.0\n",
      "10             AMAZON  35606804.0\n"
     ]
    },
    {
     "data": {
      "text/plain": [
       "Text(0.5, 1.0, 'Sub Channel wise Sales')"
      ]
     },
     "execution_count": 25,
     "metadata": {},
     "output_type": "execute_result"
    },
    {
     "data": {
      "image/png": "[encoded data removed]",
      "text/plain": [
       "<Figure size 432x288 with 1 Axes>"
      ]
     },
     "metadata": {
      "needs_background": "light"
     },
     "output_type": "display_data"
    }
   ],
   "source": [
    "sub_channel_wise_sales = pd.DataFrame(data.groupby('Sub-Channels')['Sales'].sum().sort_values(ascending = True)).reset_index()\n",
    "print(sub_channel_wise_sales)\n",
    "\n",
    "\n",
    "plt.barh(sub_channel_wise_sales[\"Sub-Channels\"], sub_channel_wise_sales[\"Sales\"])\n",
    "plt.xlabel(\"Sales\")\n",
    "plt.ylabel(\"Sub Channels\")\n",
    "plt.title(\"Sub Channel wise Sales\")"
   ]
  },
  {
   "cell_type": "markdown",
   "id": "87d5bb2a",
   "metadata": {},
   "source": [
    "### Requirement 4 : Highest sale in which month\n"
   ]
  },
  {
   "cell_type": "code",
   "execution_count": 26,
   "id": "c1303b36",
   "metadata": {},
   "outputs": [
    {
     "data": {
      "text/html": [
       "<div>\n",
       "<style scoped>\n",
       "    .dataframe tbody tr th:only-of-type {\n",
       "        vertical-align: middle;\n",
       "    }\n",
       "\n",
       "    .dataframe tbody tr th {\n",
       "        vertical-align: top;\n",
       "    }\n",
       "\n",
       "    .dataframe thead th {\n",
       "        text-align: right;\n",
       "    }\n",
       "</style>\n",
       "<table border=\"1\" class=\"dataframe\">\n",
       "  <thead>\n",
       "    <tr style=\"text-align: right;\">\n",
       "      <th></th>\n",
       "      <th>0</th>\n",
       "    </tr>\n",
       "  </thead>\n",
       "  <tbody>\n",
       "    <tr>\n",
       "      <th>Sales Month</th>\n",
       "      <td>March</td>\n",
       "    </tr>\n",
       "    <tr>\n",
       "      <th>Sales</th>\n",
       "      <td>25127827.0</td>\n",
       "    </tr>\n",
       "  </tbody>\n",
       "</table>\n",
       "</div>"
      ],
      "text/plain": [
       "                      0\n",
       "Sales Month       March\n",
       "Sales        25127827.0"
      ]
     },
     "execution_count": 26,
     "metadata": {},
     "output_type": "execute_result"
    }
   ],
   "source": [
    "highest_sale_month = pd.DataFrame(data.groupby(data['Sales Month'])[\"Sales\"].sum().reset_index().max())\n",
    "highest_sale_month"
   ]
  },
  {
   "cell_type": "markdown",
   "id": "8dc463c3",
   "metadata": {},
   "source": [
    "### Requirement 5 : Highest selling product (based on sales) (packaging quantity doesn't matter. Ex. consider \"GET SLIM JUICE 1 L\" and \"GET SLIM JUICE 500 ML\" as one product)\n"
   ]
  },
  {
   "cell_type": "code",
   "execution_count": 27,
   "id": "69df7c1e",
   "metadata": {},
   "outputs": [
    {
     "data": {
      "text/html": [
       "<div>\n",
       "<style scoped>\n",
       "    .dataframe tbody tr th:only-of-type {\n",
       "        vertical-align: middle;\n",
       "    }\n",
       "\n",
       "    .dataframe tbody tr th {\n",
       "        vertical-align: top;\n",
       "    }\n",
       "\n",
       "    .dataframe thead th {\n",
       "        text-align: right;\n",
       "    }\n",
       "</style>\n",
       "<table border=\"1\" class=\"dataframe\">\n",
       "  <thead>\n",
       "    <tr style=\"text-align: right;\">\n",
       "      <th></th>\n",
       "      <th>Month</th>\n",
       "      <th>Channel</th>\n",
       "      <th>Sub-Channels</th>\n",
       "      <th>Product Name</th>\n",
       "      <th>Category</th>\n",
       "      <th>Qty</th>\n",
       "      <th>Sales</th>\n",
       "      <th>Sales Month</th>\n",
       "    </tr>\n",
       "  </thead>\n",
       "  <tbody>\n",
       "    <tr>\n",
       "      <th>0</th>\n",
       "      <td>2020-12-01</td>\n",
       "      <td>Marketplace</td>\n",
       "      <td>AMAZON</td>\n",
       "      <td>ALOE + AMLA JUICE 1 L</td>\n",
       "      <td>Juices</td>\n",
       "      <td>1116</td>\n",
       "      <td>428700.0</td>\n",
       "      <td>December</td>\n",
       "    </tr>\n",
       "    <tr>\n",
       "      <th>1</th>\n",
       "      <td>2020-12-01</td>\n",
       "      <td>Marketplace</td>\n",
       "      <td>AMAZON</td>\n",
       "      <td>ALOE + GARCINIA JUICE 1 L</td>\n",
       "      <td>Juices</td>\n",
       "      <td>3003</td>\n",
       "      <td>1374831.0</td>\n",
       "      <td>December</td>\n",
       "    </tr>\n",
       "    <tr>\n",
       "      <th>2</th>\n",
       "      <td>2020-12-01</td>\n",
       "      <td>Marketplace</td>\n",
       "      <td>AMAZON</td>\n",
       "      <td>ALOE VERA JUICE 1 L</td>\n",
       "      <td>Juices</td>\n",
       "      <td>2962</td>\n",
       "      <td>732167.0</td>\n",
       "      <td>December</td>\n",
       "    </tr>\n",
       "    <tr>\n",
       "      <th>3</th>\n",
       "      <td>2020-12-01</td>\n",
       "      <td>Marketplace</td>\n",
       "      <td>AMAZON</td>\n",
       "      <td>ALOE VERA SKIN GEL 500 GM</td>\n",
       "      <td>Gourmet Nutrition</td>\n",
       "      <td>1004</td>\n",
       "      <td>377100.0</td>\n",
       "      <td>December</td>\n",
       "    </tr>\n",
       "    <tr>\n",
       "      <th>4</th>\n",
       "      <td>2020-12-01</td>\n",
       "      <td>Marketplace</td>\n",
       "      <td>AMAZON</td>\n",
       "      <td>NEEM JUICE 1 L</td>\n",
       "      <td>Juices</td>\n",
       "      <td>555</td>\n",
       "      <td>152287.0</td>\n",
       "      <td>December</td>\n",
       "    </tr>\n",
       "  </tbody>\n",
       "</table>\n",
       "</div>"
      ],
      "text/plain": [
       "       Month      Channel Sub-Channels               Product Name  \\\n",
       "0 2020-12-01  Marketplace       AMAZON      ALOE + AMLA JUICE 1 L   \n",
       "1 2020-12-01  Marketplace       AMAZON  ALOE + GARCINIA JUICE 1 L   \n",
       "2 2020-12-01  Marketplace       AMAZON        ALOE VERA JUICE 1 L   \n",
       "3 2020-12-01  Marketplace       AMAZON  ALOE VERA SKIN GEL 500 GM   \n",
       "4 2020-12-01  Marketplace       AMAZON             NEEM JUICE 1 L   \n",
       "\n",
       "            Category   Qty      Sales Sales Month  \n",
       "0             Juices  1116   428700.0    December  \n",
       "1             Juices  3003  1374831.0    December  \n",
       "2             Juices  2962   732167.0    December  \n",
       "3  Gourmet Nutrition  1004   377100.0    December  \n",
       "4             Juices   555   152287.0    December  "
      ]
     },
     "execution_count": 27,
     "metadata": {},
     "output_type": "execute_result"
    }
   ],
   "source": [
    "data.head()"
   ]
  },
  {
   "cell_type": "code",
   "execution_count": 28,
   "id": "57c7201e",
   "metadata": {},
   "outputs": [],
   "source": [
    "#Spliting the values in \"product Name\" column from the numeric character and selecting the value at 0 index\n",
    "\n",
    "\n",
    "import re \n",
    "data['Product'] = data['Product Name'].apply( lambda x : re.split('(\\d+)',x)[0])"
   ]
  },
  {
   "cell_type": "code",
   "execution_count": 29,
   "id": "57360586",
   "metadata": {
    "scrolled": true
   },
   "outputs": [
    {
     "data": {
      "text/html": [
       "<div>\n",
       "<style scoped>\n",
       "    .dataframe tbody tr th:only-of-type {\n",
       "        vertical-align: middle;\n",
       "    }\n",
       "\n",
       "    .dataframe tbody tr th {\n",
       "        vertical-align: top;\n",
       "    }\n",
       "\n",
       "    .dataframe thead th {\n",
       "        text-align: right;\n",
       "    }\n",
       "</style>\n",
       "<table border=\"1\" class=\"dataframe\">\n",
       "  <thead>\n",
       "    <tr style=\"text-align: right;\">\n",
       "      <th></th>\n",
       "      <th>Month</th>\n",
       "      <th>Channel</th>\n",
       "      <th>Sub-Channels</th>\n",
       "      <th>Product Name</th>\n",
       "      <th>Category</th>\n",
       "      <th>Qty</th>\n",
       "      <th>Sales</th>\n",
       "      <th>Sales Month</th>\n",
       "      <th>Product</th>\n",
       "    </tr>\n",
       "  </thead>\n",
       "  <tbody>\n",
       "    <tr>\n",
       "      <th>0</th>\n",
       "      <td>2020-12-01</td>\n",
       "      <td>Marketplace</td>\n",
       "      <td>AMAZON</td>\n",
       "      <td>ALOE + AMLA JUICE 1 L</td>\n",
       "      <td>Juices</td>\n",
       "      <td>1116</td>\n",
       "      <td>428700.0</td>\n",
       "      <td>December</td>\n",
       "      <td>ALOE + AMLA JUICE</td>\n",
       "    </tr>\n",
       "    <tr>\n",
       "      <th>1</th>\n",
       "      <td>2020-12-01</td>\n",
       "      <td>Marketplace</td>\n",
       "      <td>AMAZON</td>\n",
       "      <td>ALOE + GARCINIA JUICE 1 L</td>\n",
       "      <td>Juices</td>\n",
       "      <td>3003</td>\n",
       "      <td>1374831.0</td>\n",
       "      <td>December</td>\n",
       "      <td>ALOE + GARCINIA JUICE</td>\n",
       "    </tr>\n",
       "    <tr>\n",
       "      <th>2</th>\n",
       "      <td>2020-12-01</td>\n",
       "      <td>Marketplace</td>\n",
       "      <td>AMAZON</td>\n",
       "      <td>ALOE VERA JUICE 1 L</td>\n",
       "      <td>Juices</td>\n",
       "      <td>2962</td>\n",
       "      <td>732167.0</td>\n",
       "      <td>December</td>\n",
       "      <td>ALOE VERA JUICE</td>\n",
       "    </tr>\n",
       "    <tr>\n",
       "      <th>3</th>\n",
       "      <td>2020-12-01</td>\n",
       "      <td>Marketplace</td>\n",
       "      <td>AMAZON</td>\n",
       "      <td>ALOE VERA SKIN GEL 500 GM</td>\n",
       "      <td>Gourmet Nutrition</td>\n",
       "      <td>1004</td>\n",
       "      <td>377100.0</td>\n",
       "      <td>December</td>\n",
       "      <td>ALOE VERA SKIN GEL</td>\n",
       "    </tr>\n",
       "    <tr>\n",
       "      <th>4</th>\n",
       "      <td>2020-12-01</td>\n",
       "      <td>Marketplace</td>\n",
       "      <td>AMAZON</td>\n",
       "      <td>NEEM JUICE 1 L</td>\n",
       "      <td>Juices</td>\n",
       "      <td>555</td>\n",
       "      <td>152287.0</td>\n",
       "      <td>December</td>\n",
       "      <td>NEEM JUICE</td>\n",
       "    </tr>\n",
       "  </tbody>\n",
       "</table>\n",
       "</div>"
      ],
      "text/plain": [
       "       Month      Channel Sub-Channels               Product Name  \\\n",
       "0 2020-12-01  Marketplace       AMAZON      ALOE + AMLA JUICE 1 L   \n",
       "1 2020-12-01  Marketplace       AMAZON  ALOE + GARCINIA JUICE 1 L   \n",
       "2 2020-12-01  Marketplace       AMAZON        ALOE VERA JUICE 1 L   \n",
       "3 2020-12-01  Marketplace       AMAZON  ALOE VERA SKIN GEL 500 GM   \n",
       "4 2020-12-01  Marketplace       AMAZON             NEEM JUICE 1 L   \n",
       "\n",
       "            Category   Qty      Sales Sales Month                 Product  \n",
       "0             Juices  1116   428700.0    December      ALOE + AMLA JUICE   \n",
       "1             Juices  3003  1374831.0    December  ALOE + GARCINIA JUICE   \n",
       "2             Juices  2962   732167.0    December        ALOE VERA JUICE   \n",
       "3  Gourmet Nutrition  1004   377100.0    December     ALOE VERA SKIN GEL   \n",
       "4             Juices   555   152287.0    December             NEEM JUICE   "
      ]
     },
     "execution_count": 29,
     "metadata": {},
     "output_type": "execute_result"
    }
   ],
   "source": [
    "data.head()"
   ]
  },
  {
   "cell_type": "code",
   "execution_count": 31,
   "id": "d6c7c521",
   "metadata": {},
   "outputs": [
    {
     "data": {
      "text/html": [
       "<div>\n",
       "<style scoped>\n",
       "    .dataframe tbody tr th:only-of-type {\n",
       "        vertical-align: middle;\n",
       "    }\n",
       "\n",
       "    .dataframe tbody tr th {\n",
       "        vertical-align: top;\n",
       "    }\n",
       "\n",
       "    .dataframe thead th {\n",
       "        text-align: right;\n",
       "    }\n",
       "</style>\n",
       "<table border=\"1\" class=\"dataframe\">\n",
       "  <thead>\n",
       "    <tr style=\"text-align: right;\">\n",
       "      <th></th>\n",
       "      <th>Product</th>\n",
       "      <th>Qty</th>\n",
       "      <th>Sales</th>\n",
       "    </tr>\n",
       "  </thead>\n",
       "  <tbody>\n",
       "    <tr>\n",
       "      <th>0</th>\n",
       "      <td>ALOE + GARCINIA JUICE</td>\n",
       "      <td>23585</td>\n",
       "      <td>12249252.0</td>\n",
       "    </tr>\n",
       "    <tr>\n",
       "      <th>1</th>\n",
       "      <td>HIMALAYA OIL</td>\n",
       "      <td>8009</td>\n",
       "      <td>12000055.0</td>\n",
       "    </tr>\n",
       "    <tr>\n",
       "      <th>2</th>\n",
       "      <td>GET SLIM JUICE</td>\n",
       "      <td>24731</td>\n",
       "      <td>9122552.0</td>\n",
       "    </tr>\n",
       "    <tr>\n",
       "      <th>3</th>\n",
       "      <td>ALOE VERA JUICE</td>\n",
       "      <td>28788</td>\n",
       "      <td>6024517.0</td>\n",
       "    </tr>\n",
       "    <tr>\n",
       "      <th>4</th>\n",
       "      <td>AMLA JUICE</td>\n",
       "      <td>34378</td>\n",
       "      <td>5862740.0</td>\n",
       "    </tr>\n",
       "  </tbody>\n",
       "</table>\n",
       "</div>"
      ],
      "text/plain": [
       "                  Product    Qty       Sales\n",
       "0  ALOE + GARCINIA JUICE   23585  12249252.0\n",
       "1           HIMALAYA OIL    8009  12000055.0\n",
       "2         GET SLIM JUICE   24731   9122552.0\n",
       "3        ALOE VERA JUICE   28788   6024517.0\n",
       "4             AMLA JUICE   34378   5862740.0"
      ]
     },
     "execution_count": 31,
     "metadata": {},
     "output_type": "execute_result"
    }
   ],
   "source": [
    "highest_selling_product = data.groupby('Product').sum().sort_values('Sales' , ascending = False).reset_index().head()\n",
    "highest_selling_product\n",
    "\n",
    "\n",
    "\n",
    "plt.barh(highest_selling_product[\"\"], sub_channel_wise_sales[\"Sales\"])\n",
    "plt.xlabel(\"Sales\")\n",
    "plt.ylabel(\"Sub Channels\")\n",
    "plt.title(\"Sub Channel wise Sales\")"
   ]
  },
  {
   "cell_type": "markdown",
   "id": "5b1afdc3",
   "metadata": {},
   "source": [
    "#### Requirement 6 : List of different products company is offering (packaging quantity doesn't matter. Ex. consider \"GET SLIM JUICE 1 L\" and \"GET SLIM JUICE 500 ML\" as one product)\n"
   ]
  },
  {
   "cell_type": "code",
   "execution_count": null,
   "id": "4bd3a627",
   "metadata": {},
   "outputs": [],
   "source": [
    "list_of_products = pd.DataFrame(data.groupby(['Sub-Channels','Product'])[\"Sales\"].sum())\n",
    "list_of_products\n",
    "\n"
   ]
  },
  {
   "cell_type": "markdown",
   "id": "3f52801c",
   "metadata": {},
   "source": [
    "#### Requirement 7 : Create a single excel file to save all the outputs generated above in different subsheets. Email final output file and your python code (.ipynb) file"
   ]
  },
  {
   "cell_type": "code",
   "execution_count": null,
   "id": "40ea6937",
   "metadata": {},
   "outputs": [],
   "source": [
    "xl_writer = pd.ExcelWriter('FMCG_Sales_data.xlsx')\n",
    "\n",
    "month_wise_qty.to_excel(xl_writer , 'month wise sales')\n",
    "cat_wise_qty.to_excel(xl_writer ,'category wise qty')\n",
    "sub_channel_wise_sales.to_excel(xl_writer ,'sub channel wise sales' )\n",
    "highest_sale_month.to_excel(xl_writer , 'highest sale month')\n",
    "highest_selling_product.to_excel(xl_writer ,'highest selling product')\n",
    "list_of_products.to_excel(xl_writer ,'list of products')\n",
    "\n",
    "xl_writer.close()\n",
    "\n"
   ]
  },
  {
   "cell_type": "code",
   "execution_count": null,
   "id": "e02e91dd",
   "metadata": {},
   "outputs": [],
   "source": []
  }
 ],
 "metadata": {
  "kernelspec": {
   "display_name": "Python 3 (ipykernel)",
   "language": "python",
   "name": "python3"
  },
  "language_info": {
   "codemirror_mode": {
    "name": "ipython",
    "version": 3
   },
   "file_extension": ".py",
   "mimetype": "text/x-python",
   "name": "python",
   "nbconvert_exporter": "python",
   "pygments_lexer": "ipython3",
   "version": "3.9.12"
  }
 },
 "nbformat": 4,
 "nbformat_minor": 5
}
